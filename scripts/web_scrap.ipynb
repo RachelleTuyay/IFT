{
 "cells": [
  {
   "cell_type": "code",
   "execution_count": 21,
   "id": "b8056bc5-0956-4001-89d5-b221cb610bcc",
   "metadata": {},
   "outputs": [],
   "source": [
    "#pip install beautifulsoup4"
   ]
  },
  {
   "cell_type": "code",
   "execution_count": 22,
   "id": "14c6bf1b-4910-41fb-88a6-9c5e5879f79a",
   "metadata": {},
   "outputs": [],
   "source": [
    "#pip install requests"
   ]
  },
  {
   "cell_type": "code",
   "execution_count": 23,
   "id": "87c2fec2-e04d-4f30-b03c-a9a9298e3242",
   "metadata": {},
   "outputs": [],
   "source": [
    "#pip install lxml"
   ]
  },
  {
   "cell_type": "code",
   "execution_count": 49,
   "id": "f38002fd-8a11-4ac0-918b-53109d10602c",
   "metadata": {},
   "outputs": [
    {
     "ename": "NameError",
     "evalue": "name 'scrape_from_url' is not defined",
     "output_type": "error",
     "traceback": [
      "\u001b[0;31m---------------------------------------------------------------------------\u001b[0m",
      "\u001b[0;31mNameError\u001b[0m                                 Traceback (most recent call last)",
      "Cell \u001b[0;32mIn[49], line 74\u001b[0m\n\u001b[1;32m     71\u001b[0m         \u001b[38;5;28mprint\u001b[39m(\u001b[38;5;124mf\u001b[39m\u001b[38;5;124m\"\u001b[39m\u001b[38;5;124mScraping terminé pour l\u001b[39m\u001b[38;5;124m'\u001b[39m\u001b[38;5;124mURL \u001b[39m\u001b[38;5;132;01m{\u001b[39;00mi\u001b[38;5;132;01m}\u001b[39;00m\u001b[38;5;124m, enregistré dans \u001b[39m\u001b[38;5;132;01m{\u001b[39;00moutput_file\u001b[38;5;132;01m}\u001b[39;00m\u001b[38;5;124m\"\u001b[39m)\n\u001b[1;32m     73\u001b[0m \u001b[38;5;66;03m# Exécution du scraping pour chaque URL\u001b[39;00m\n\u001b[0;32m---> 74\u001b[0m \u001b[43mscrape_from_file_per_url\u001b[49m\u001b[43m(\u001b[49m\u001b[43minput_file\u001b[49m\u001b[43m)\u001b[49m\n\u001b[1;32m     76\u001b[0m \u001b[38;5;28mprint\u001b[39m(\u001b[38;5;124mf\u001b[39m\u001b[38;5;124m\"\u001b[39m\u001b[38;5;124mScraping terminé, enregistrés dans \u001b[39m\u001b[38;5;132;01m{\u001b[39;00moutput_file\u001b[38;5;132;01m}\u001b[39;00m\u001b[38;5;124m\"\u001b[39m)\n",
      "Cell \u001b[0;32mIn[49], line 69\u001b[0m, in \u001b[0;36mscrape_from_file_per_url\u001b[0;34m(input_file)\u001b[0m\n\u001b[1;32m     66\u001b[0m output_file \u001b[38;5;241m=\u001b[39m \u001b[38;5;124mf\u001b[39m\u001b[38;5;124m\"\u001b[39m\u001b[38;5;124mdump_\u001b[39m\u001b[38;5;132;01m{\u001b[39;00mi\u001b[38;5;132;01m}\u001b[39;00m\u001b[38;5;124m.txt\u001b[39m\u001b[38;5;124m\"\u001b[39m  \u001b[38;5;66;03m# Création d'un nom unique de fichier en fonction de l'URL\u001b[39;00m\n\u001b[1;32m     68\u001b[0m \u001b[38;5;66;03m# Exécuter le scraping pour chaque URL et enregistrer dans un fichier unique\u001b[39;00m\n\u001b[0;32m---> 69\u001b[0m \u001b[43mscrape_from_url\u001b[49m(url, output_file)\n\u001b[1;32m     71\u001b[0m \u001b[38;5;28mprint\u001b[39m(\u001b[38;5;124mf\u001b[39m\u001b[38;5;124m\"\u001b[39m\u001b[38;5;124mScraping terminé pour l\u001b[39m\u001b[38;5;124m'\u001b[39m\u001b[38;5;124mURL \u001b[39m\u001b[38;5;132;01m{\u001b[39;00mi\u001b[38;5;132;01m}\u001b[39;00m\u001b[38;5;124m, enregistré dans \u001b[39m\u001b[38;5;132;01m{\u001b[39;00moutput_file\u001b[38;5;132;01m}\u001b[39;00m\u001b[38;5;124m\"\u001b[39m)\n",
      "\u001b[0;31mNameError\u001b[0m: name 'scrape_from_url' is not defined"
     ]
    }
   ],
   "source": [
    "from bs4 import BeautifulSoup\n",
    "import requests\n",
    "\n",
    "def scrape_page(url):\n",
    "    \"\"\"Scrape une page et extrait son titre et son contenu.\"\"\"\n",
    "    try:\n",
    "        response = requests.get(url, headers={\"User-Agent\": \"Mozilla/5.0\"}, timeout=10)\n",
    "        response.raise_for_status()  # Vérifie les erreurs HTTP\n",
    "        soup = BeautifulSoup(response.content, \"html.parser\")\n",
    "        \n",
    "        # Extraction du titre\n",
    "        title = soup.title.string.strip() if soup.title else \"Titre non disponible\"\n",
    "        \n",
    "        # Extraction du contenu principal (adapté pour Le Monde)\n",
    "        article_content = \"\"\n",
    "        article_tags = soup.find_all(\"p\", class_=lambda x: x and \"article__paragraph\" in x.lower())\n",
    "        if not article_tags:\n",
    "            article_tags = soup.find_all(\"p\")  # Dernier recours\n",
    "        \n",
    "        for tag in article_tags:\n",
    "            article_content += tag.get_text(separator=\" \", strip=True) + \"\\n\"\n",
    "        \n",
    "        if not article_content.strip():\n",
    "            article_content = \"Contenu non disponible\"\n",
    "        \n",
    "        print(f\"Scrapé : {url}\\nTitre : {title}\\n---\\n\")\n",
    "        return title, article_content\n",
    "    except Exception as e:\n",
    "        print(f\"Erreur lors du scraping de {url} : {e}\")\n",
    "        return None, None\n",
    "\n",
    "def scrape_from_file(file_path, output_file):\n",
    "    \"\"\"Lit les URLs depuis un fichier et sauvegarde les résultats.\"\"\"\n",
    "    try:\n",
    "        with open(file_path, \"r\", encoding=\"utf-8\") as file:\n",
    "            urls = [url.strip() for url in file.readlines() if url.strip()]\n",
    "        \n",
    "        with open(output_file, \"w\", encoding=\"utf-8\") as output:\n",
    "            for url in urls:\n",
    "                title, content = scrape_page(url)\n",
    "                if title and content:\n",
    "                    output.write(f\"URL: {url}\\nTitre: {title}\\nContenu:\\n{content}\")\n",
    "                    #{'-'*80}\\n\"}\n",
    "    except Exception as e:\n",
    "        print(f\"Erreur lors de l'ouverture du fichier {file_path}\")\n",
    "\n",
    "# Configuration des fichiers\n",
    "\n",
    "input_file = \"urls_economie.txt\"\n",
    "output_file = \"articles_eco_scraped.txt\"\n",
    "\n",
    "# Exécution du scraping tous les urls dans un seul fichier :\n",
    "scrape_from_file(input_file, output_file)\n",
    "\n",
    "print(f\"Scraping terminé, enregistrés dans {output_file}\")"
   ]
  },
  {
   "cell_type": "code",
   "execution_count": null,
   "id": "ff2a3b07-a8b7-416b-8a6b-a4549f11857d",
   "metadata": {},
   "outputs": [],
   "source": []
  }
 ],
 "metadata": {
  "kernelspec": {
   "display_name": "Python 3 (ipykernel)",
   "language": "python",
   "name": "python3"
  },
  "language_info": {
   "codemirror_mode": {
    "name": "ipython",
    "version": 3
   },
   "file_extension": ".py",
   "mimetype": "text/x-python",
   "name": "python",
   "nbconvert_exporter": "python",
   "pygments_lexer": "ipython3",
   "version": "3.12.3"
  }
 },
 "nbformat": 4,
 "nbformat_minor": 5
}
