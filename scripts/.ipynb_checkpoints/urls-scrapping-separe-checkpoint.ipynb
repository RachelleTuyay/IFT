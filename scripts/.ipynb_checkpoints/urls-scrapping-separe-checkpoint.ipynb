{
 "cells": [
  {
   "cell_type": "code",
   "execution_count": null,
   "id": "2f2e604e-53a4-461e-8d19-4f1d084e34b8",
   "metadata": {},
   "outputs": [],
   "source": [
    "#pip install beautifulsoup4"
   ]
  },
  {
   "cell_type": "code",
   "execution_count": null,
   "id": "89d739a7-3f41-484f-92b5-a51725a16bd1",
   "metadata": {},
   "outputs": [],
   "source": [
    "#pip install requests"
   ]
  },
  {
   "cell_type": "code",
   "execution_count": null,
   "id": "4177b72e-969d-436a-aa8e-c91c664755d3",
   "metadata": {},
   "outputs": [],
   "source": [
    "#pip install lxml"
   ]
  },
  {
   "cell_type": "code",
   "execution_count": 1,
   "id": "9f9c8b9f-8b22-4b94-9b82-54ac859679a7",
   "metadata": {
    "tags": []
   },
   "outputs": [
    {
     "name": "stdout",
     "output_type": "stream",
     "text": [
      "Erreur lors de l'ouverture du fichier ../data/urls_econimie.txt : [Errno 2] No such file or directory: '../data/urls_econimie.txt'\n",
      "Scraping terminé, articles enregistrés dans le dossier 'articles_economie'\n"
     ]
    }
   ],
   "source": [
    "from bs4 import BeautifulSoup\n",
    "import requests\n",
    "import os\n",
    "import re\n",
    "\n",
    "def clean_filename(title):\n",
    "    \"\"\"Nettoie le titre pour en faire un nom de fichier valide.\"\"\"\n",
    "    title = re.sub(r'[\\\\/*?:\"<>|]', \"\", title)  # Retire les caractères interdits\n",
    "    title = re.sub(r'\\s+', '_', title)           # Remplace les espaces par des underscores\n",
    "    return title.strip()[:100]                   # Coupe à 100 caractères max\n",
    "\n",
    "def scrape_page(url):\n",
    "    \"\"\"Scrape une page et extrait son titre et son contenu.\"\"\"\n",
    "    try:\n",
    "        HEADERS = {'User-Agent': 'Mozilla/5.0 (iPad; CPU OS 12_2 like Mac OS X) AppleWebKit/605.1.15 (KHTML, like Gecko) Mobile/15E148'} # Pour éviter l'erreur 403\n",
    "        response = requests.get(url, headers=HEADERS, timeout=10)\n",
    "        response.raise_for_status()\n",
    "        soup = BeautifulSoup(response.content, \"html.parser\")\n",
    "        \n",
    "        title = soup.title.string.strip() if soup.title else \"Titre_non_disponible\"\n",
    "        \n",
    "        article_content = \"\"\n",
    "        article_tags = soup.find_all(\"p\", class_=lambda x: x and \"article__paragraph\" in x.lower())\n",
    "        if not article_tags:\n",
    "            article_tags = soup.find_all(\"p\")\n",
    "        \n",
    "        for tag in article_tags:\n",
    "            article_content += tag.get_text(separator=\" \", strip=True) + \"\\n\"\n",
    "        \n",
    "        if not article_content.strip():\n",
    "            article_content = \"Contenu non disponible\"\n",
    "        \n",
    "        print(f\"Scrapé : {url}\\nTitre : {title}\\n---\\n\")\n",
    "        return title, article_content\n",
    "    except Exception as e:\n",
    "        print(f\"Erreur lors du scraping de {url} : {e}\")\n",
    "        return None, None\n",
    "\n",
    "def scrape_from_file(file_path, output_dir):\n",
    "    \"\"\"Lit les URLs depuis un fichier et sauvegarde chaque article dans un fichier individuel.\"\"\"\n",
    "    try:\n",
    "        os.makedirs(output_dir, exist_ok=True)  # Crée le dossier s'il n'existe pas\n",
    "        \n",
    "        with open(file_path, \"r\", encoding=\"utf-8\") as file:\n",
    "            urls = [url.strip() for url in file.readlines() if url.strip()]\n",
    "        \n",
    "        for idx, url in enumerate(urls, start=1):\n",
    "            title, content = scrape_page(url)\n",
    "            if title and content:\n",
    "                safe_title = clean_filename(title)\n",
    "                filename = f\"{idx:03d}_{safe_title}.txt\"\n",
    "                filepath = os.path.join(output_dir, filename)\n",
    "                with open(filepath, \"w\", encoding=\"utf-8\") as output:\n",
    "                    output.write(f\"{title}\\n\\n{content}\")\n",
    "    except Exception as e:\n",
    "        print(f\"Erreur lors de l'ouverture du fichier {file_path} : {e}\")\n",
    "\n",
    "# Configuration des fichiers\n",
    "input_file = \"./data/urls_econimie.txt\"\n",
    "output_dir = \"articles_economie\"\n",
    "\n",
    "# Exécution du scraping\n",
    "scrape_from_file(input_file, output_dir)\n",
    "\n",
    "print(f\"Scraping terminé, articles enregistrés dans le dossier '{output_dir}'\")\n"
   ]
  },
  {
   "cell_type": "code",
   "execution_count": null,
   "id": "ff854e4a-ef36-4681-b560-e4514310298d",
   "metadata": {},
   "outputs": [],
   "source": []
  }
 ],
 "metadata": {
  "kernelspec": {
   "display_name": "Python 3 (ipykernel)",
   "language": "python",
   "name": "python3"
  },
  "language_info": {
   "codemirror_mode": {
    "name": "ipython",
    "version": 3
   },
   "file_extension": ".py",
   "mimetype": "text/x-python",
   "name": "python",
   "nbconvert_exporter": "python",
   "pygments_lexer": "ipython3",
   "version": "3.12.3"
  }
 },
 "nbformat": 4,
 "nbformat_minor": 5
}
